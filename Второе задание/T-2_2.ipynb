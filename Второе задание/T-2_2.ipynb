{
 "cells": [
  {
   "cell_type": "code",
   "execution_count": 1,
   "id": "468fecc9-0719-4196-aa3a-dbe809b552ef",
   "metadata": {},
   "outputs": [],
   "source": [
    "import random\n",
    "import scipy\n",
    "import numpy as np\n",
    "from numpy import linalg\n",
    "from scipy.stats import t, f, norm, ksone\n",
    "import matplotlib.pyplot as plt"
   ]
  },
  {
   "cell_type": "code",
   "execution_count": 2,
   "id": "53ce59ca-2f61-438a-b201-610766fe5e41",
   "metadata": {},
   "outputs": [],
   "source": [
    "k = 5\n",
    "Ig1 = [83, 85]\n",
    "Ig2 = [84, 85, 85, 86, 86, 87]\n",
    "Ig3 = [86, 87, 87, 87, 88, 88, 88, 88, 88, 89, 90]\n",
    "Ig4 = [89, 90, 90, 91]\n",
    "Ig5 = [90, 92]\n",
    "Ig = Ig1 + Ig2 + Ig3 + Ig4 + Ig5\n",
    "n1 = len(Ig1)\n",
    "n2 = len(Ig2)\n",
    "n3 = len(Ig3)\n",
    "n4 = len(Ig4)\n",
    "n5 = len(Ig5)\n",
    "n_list = [n1, n2, n3, n4, n5]\n",
    "n = sum(n_list)"
   ]
  },
  {
   "cell_type": "code",
   "execution_count": 7,
   "id": "5269f1e6-a8be-491c-9acb-267032548a6b",
   "metadata": {},
   "outputs": [],
   "source": [
    "def get_Psi(n_list):\n",
    "    Psi = []\n",
    "    c1 = 0\n",
    "    c2 = sum(n_list)\n",
    "    for i in range(k):\n",
    "        Psi.append([0]*c1 + [1]*n_list[i] + [0]*(c2-n_list[i]-c1))\n",
    "        c1 += n_list[i]\n",
    "    return np.matrix(Psi).T\n",
    "def get_inv(A):\n",
    "    return linalg.inv(A)\n",
    "def get_F(Psi):\n",
    "    return Psi.T @ Psi;\n",
    "def get_beta(Psi, Y):\n",
    "    return get_inv(get_F(Psi)) @ Psi.T @ Y\n",
    "def get_e(Y, Psi, beta):\n",
    "    return Y - Psi @ beta\n",
    "def get_RSS(e):\n",
    "    return (e.transpose() @ e)[0,0]\n",
    "def get_TSS(Y):\n",
    "    av_y = np.sum(Y)/Y.size\n",
    "    return sum([(Y[i, 0]-av_y)**2 for i in range(Y.size)])\n",
    "def get_R(RSS, TSS):\n",
    "    return (TSS - RSS)/TSS"
   ]
  },
  {
   "cell_type": "code",
   "execution_count": 8,
   "id": "c9cda3ff-c7ad-44c8-a1af-ca79f38d029a",
   "metadata": {},
   "outputs": [
    {
     "name": "stdout",
     "output_type": "stream",
     "text": [
      "Psi_t = \n",
      "[[1 1 0 0 0 0 0 0 0 0 0 0 0 0 0 0 0 0 0 0 0 0 0 0 0]\n",
      " [0 0 1 1 1 1 1 1 0 0 0 0 0 0 0 0 0 0 0 0 0 0 0 0 0]\n",
      " [0 0 0 0 0 0 0 0 1 1 1 1 1 1 1 1 1 1 1 0 0 0 0 0 0]\n",
      " [0 0 0 0 0 0 0 0 0 0 0 0 0 0 0 0 0 0 0 1 1 1 1 0 0]\n",
      " [0 0 0 0 0 0 0 0 0 0 0 0 0 0 0 0 0 0 0 0 0 0 0 1 1]]\n"
     ]
    }
   ],
   "source": [
    "Psi= get_Psi(n_list)\n",
    "print(f\"Psi_t = \\n{Psi.T}\")"
   ]
  },
  {
   "cell_type": "code",
   "execution_count": 9,
   "id": "0dfab4e2-816e-4725-9149-c55d5ab0d6ff",
   "metadata": {},
   "outputs": [
    {
     "name": "stdout",
     "output_type": "stream",
     "text": [
      "Y_t = [[83 85 84 85 85 86 86 87 86 87 87 87 88 88 88 88 88 89 90 89 90 90 91 90\n",
      "  92]]\n"
     ]
    }
   ],
   "source": [
    "Y = np.matrix(Ig).T\n",
    "print(f\"Y_t = {Y.T}\")"
   ]
  },
  {
   "cell_type": "code",
   "execution_count": 11,
   "id": "c9dbe22b-4c0a-4f70-92a6-9c98888fe655",
   "metadata": {},
   "outputs": [
    {
     "name": "stdout",
     "output_type": "stream",
     "text": [
      "F: \n",
      "[[ 2  0  0  0  0]\n",
      " [ 0  6  0  0  0]\n",
      " [ 0  0 11  0  0]\n",
      " [ 0  0  0  4  0]\n",
      " [ 0  0  0  0  2]]\n",
      "\n",
      "F^-1: \n",
      "[[0.5        0.         0.         0.         0.        ]\n",
      " [0.         0.16666667 0.         0.         0.        ]\n",
      " [0.         0.         0.09090909 0.         0.        ]\n",
      " [0.         0.         0.         0.25       0.        ]\n",
      " [0.         0.         0.         0.         0.5       ]]\n",
      "\n",
      "beta = [84.0, 85.5, 87.81818181818181, 90.0, 91.0]\n",
      "\n",
      "e = [-1.0, 1.0, -1.5, -0.5, -0.5, 0.5, 0.5, 1.5, -1.818181818181813, -0.818181818181813, -0.818181818181813, -0.818181818181813, 0.18181818181818699, 0.18181818181818699, 0.18181818181818699, 0.18181818181818699, 0.18181818181818699, 1.181818181818187, 2.181818181818187, -1.0, 0.0, 0.0, 1.0, -1.0, 1.0]\n",
      "\n",
      " RSS = 23.136363636363637\n",
      "\n",
      " TSS = 122.16\n",
      "\n",
      " R^2 = 0.8106060606060606\n"
     ]
    }
   ],
   "source": [
    "print(f\"F: \\n{get_F(Psi)}\\n\")\n",
    "F_1 = get_inv(get_F(Psi))\n",
    "print(f\"F^-1: \\n{F_1}\\n\")\n",
    "beta = get_beta(Psi, Y)\n",
    "print(\"beta = \" + \",\".join(map(str, beta.T[0].tolist())))\n",
    "e = get_e(Y, Psi, beta)\n",
    "print(\"\\ne = \" + \",\".join(map(str, e.T[0].tolist())))\n",
    "\n",
    "RSS = get_RSS(e)\n",
    "print(f\"\\n RSS = {RSS}\")\n",
    "TSS = get_TSS(Y)\n",
    "print(f\"\\n TSS = {TSS}\")\n",
    "R = get_R(RSS, TSS)\n",
    "print(f\"\\n R^2 = {R}\")"
   ]
  },
  {
   "cell_type": "code",
   "execution_count": 16,
   "id": "2ab18f31-57e1-479c-95fd-fc9337cf68f6",
   "metadata": {},
   "outputs": [
    {
     "name": "stdout",
     "output_type": "stream",
     "text": [
      "p_value (0.0) < alpha (0.05) -> beta1 значим\n",
      "p_value (0.0) < alpha (0.05) -> beta2 значим\n",
      "p_value (0.0) < alpha (0.05) -> beta3 значим\n",
      "p_value (0.0) < alpha (0.05) -> beta4 значим\n",
      "p_value (0.0) < alpha (0.05) -> beta5 значим\n"
     ]
    }
   ],
   "source": [
    "def check_significance_beta(Psi, beta, RSS, n, p, i):\n",
    "    alpha = 0.05\n",
    "    delta = beta[i]*(n-p)**0.5\n",
    "    delta /= (RSS * get_inv(get_F(Psi))[i,i])**0.5\n",
    "    delta = delta[0,0]\n",
    "    p_value = 2.*(1-t.cdf(abs(delta), n-p))\n",
    "    if(p_value < alpha):\n",
    "        print(f\"p_value ({p_value}) < alpha ({alpha}) -> beta{i+1} значим\")\n",
    "    else:\n",
    "        print(f\"p_value ({p_value}) > alpha ({alpha}) -> beta{i+1} не является значимым\")\n",
    "for i in range(k):\n",
    "    check_significance_beta(Psi, beta, RSS, n, k, i)"
   ]
  },
  {
   "cell_type": "code",
   "execution_count": 19,
   "id": "30ac33a2-a2cb-4173-8d29-7b8dffcedc47",
   "metadata": {},
   "outputs": [],
   "source": [
    "def check_significance_R(R, n, p):\n",
    "    alpha = 0.05\n",
    "    delta= R/(1-R)*(n-p)*1./(p-1)\n",
    "    p_value = 1-f.cdf(delta, p-1, n-p)\n",
    "    if(p_value < alpha):\n",
    "        print(f\"p_value ({p_value}) <alpha ({alpha}) -> регрессия значима\")\n",
    "    else:\n",
    "        print(f\"p_value ({p_value}) >alpha ({alpha}) -> регрессия не является значимой\")"
   ]
  },
  {
   "cell_type": "code",
   "execution_count": 20,
   "id": "a9ab35d8-985f-45f7-8c86-314826fa2799",
   "metadata": {},
   "outputs": [
    {
     "name": "stdout",
     "output_type": "stream",
     "text": [
      "p_value (5.407435041959729e-07) <alpha (0.05) -> регрессия значима\n"
     ]
    }
   ],
   "source": [
    "check_significance_R(R, n, k)"
   ]
  },
  {
   "cell_type": "code",
   "execution_count": 21,
   "id": "2d82d910-194d-4ee7-a711-d437a43b43b3",
   "metadata": {},
   "outputs": [],
   "source": [
    "def groups_equality(beta, RSS, F_1, n, p, i, j):\n",
    "    alpha = 0.05\n",
    "    delta = (beta[i, 0] - beta[j, 0])/np.sqrt(RSS * (F_1[i,i] + F_1[j,j])) * np.sqrt(n-p)\n",
    "    p_value = 2.*(1-t.cdf(abs(delta), n-p))  \n",
    "    if(p_value < alpha):\n",
    "        print(f\"p_value ({p_value}) < alpha ({alpha}) -> beta{i+1} и beta{j+1} разные\")\n",
    "        return False\n",
    "    else:\n",
    "        print(f\"p_value ({p_value}) > alpha ({alpha}) -> beta{i+1} и beta{j+1} одинаковы\")\n",
    "        return True\n",
    "\n",
    "def check_dependence_age(β, RSS, F_1, n, p):\n",
    "    check = True\n",
    "    for i in range(p):\n",
    "        for j in range(i+1, p):\n",
    "            check = groups_equality(β, RSS, F_1, n, p, i, j) and check            \n",
    "    if(check):\n",
    "        print(\"Cодержание иммуноглобулина не зависит от возраста\")\n",
    "    else:\n",
    "        print(\"Cодержание иммуноглобулина зависит от возраста\")"
   ]
  },
  {
   "cell_type": "code",
   "execution_count": 22,
   "id": "1d84414d-5349-45a4-bb79-d4586cfd8e4e",
   "metadata": {},
   "outputs": [
    {
     "name": "stdout",
     "output_type": "stream",
     "text": [
      "p_value (0.10310040890082384) > alpha (0.05) -> beta1 и beta2 одинаковы\n",
      "p_value (0.0001662014487755492) < alpha (0.05) -> beta1 и beta3 разные\n",
      "p_value (2.782111500732043e-06) < alpha (0.05) -> beta1 и beta4 разные\n",
      "p_value (2.4125702768884594e-06) < alpha (0.05) -> beta1 и beta5 разные\n",
      "p_value (0.00039504010033408754) < alpha (0.05) -> beta2 и beta3 разные\n",
      "p_value (2.5534724907849693e-06) < alpha (0.05) -> beta2 и beta4 разные\n",
      "p_value (4.085183105129175e-06) < alpha (0.05) -> beta2 и beta5 разные\n",
      "p_value (0.0023933387043622023) < alpha (0.05) -> beta3 и beta4 разные\n",
      "p_value (0.0010025629060046448) < alpha (0.05) -> beta3 и beta5 разные\n",
      "p_value (0.29579135227474707) > alpha (0.05) -> beta4 и beta5 одинаковы\n",
      "Cодержание иммуноглобулина зависит от возраста\n"
     ]
    }
   ],
   "source": [
    "check_dependence_age(beta, RSS, F_1, n, k)"
   ]
  },
  {
   "cell_type": "code",
   "execution_count": null,
   "id": "79c77ca5-9e15-49ea-b6c0-33adc7dc94d3",
   "metadata": {},
   "outputs": [],
   "source": []
  }
 ],
 "metadata": {
  "kernelspec": {
   "display_name": "Python 3 (ipykernel)",
   "language": "python",
   "name": "python3"
  },
  "language_info": {
   "codemirror_mode": {
    "name": "ipython",
    "version": 3
   },
   "file_extension": ".py",
   "mimetype": "text/x-python",
   "name": "python",
   "nbconvert_exporter": "python",
   "pygments_lexer": "ipython3",
   "version": "3.10.0"
  }
 },
 "nbformat": 4,
 "nbformat_minor": 5
}
