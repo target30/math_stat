{
 "cells": [
  {
   "cell_type": "code",
   "execution_count": null,
   "id": "ebf4eaab-84cd-455c-aaf8-9c6bdd69fb81",
   "metadata": {},
   "outputs": [],
   "source": [
    "import matplotlib.pyplot as plt\n",
    "import numpy as np\n",
    "from scipy import stats\n",
    "import statistics \n",
    "from scipy.integrate import quad\n",
    "def distribution_function(data):\n",
    "    actual_data=0\n",
    "    F=[]\n",
    "    for i in range(0,len(data)):\n",
    "        actual_data+=data[i]/100\n",
    "        F.append(actual_data)\n",
    "    return(F)"
   ]
  },
  {
   "cell_type": "code",
   "execution_count": null,
   "id": "06e13093-948b-4b31-8298-52154391e9db",
   "metadata": {},
   "outputs": [
    {
     "name": "stdout",
     "output_type": "stream",
     "text": [
      "[0.05, 0.13, 0.19, 0.31, 0.45, 0.63, 0.74, 0.8, 0.93, 1.0]\n"
     ]
    }
   ],
   "source": [
    "data=[5,8,6,12,14,18,11,6,13,7]\n",
    "F_empirical=distribution_function(data)\n",
    "N=sum(data)\n",
    "print(F_empirical)"
   ]
  },
  {
   "cell_type": "markdown",
   "id": "eec9cea9-78ab-4984-8e54-fa42d091ed65",
   "metadata": {},
   "source": [
    "Пункт b)"
   ]
  },
  {
   "cell_type": "markdown",
   "id": "87f4cd23-8fe3-46ff-841a-6fe8c5030971",
   "metadata": {},
   "source": [
    "Найдём параметры нормального распределения максимизирую функцию максимального правдоподобия"
   ]
  },
  {
   "cell_type": "code",
   "execution_count": null,
   "id": "faa95bc4-ebe7-4af2-b414-d3c1ecd4a599",
   "metadata": {},
   "outputs": [
    {
     "name": "stdout",
     "output_type": "stream",
     "text": [
      "4.800000000000003 2.7000000000000015\n"
     ]
    }
   ],
   "source": [
    "limits = np.array(-np.inf)\n",
    "limits = np.append(limits, np.arange(0.5, 9, 1))\n",
    "limits = np.append(limits, np.inf)\n",
    "def normal_dencity(x, teta_1, teta_2):\n",
    "    return 1/(np.sqrt(2*np.pi)*teta_2)*np.exp(-(x-teta_1)**2/(2*teta_2**2))\n",
    "maxim = 0 \n",
    "best_teta_1 = 0\n",
    "best_teta_2 = 0\n",
    "for teta_1 in np.arange(1, 10, 0.1):\n",
    "    for teta_2 in np.arange(1, 10, 0.1):\n",
    "        L = 1\n",
    "        for i in range(0, len(limits)-1, ):\n",
    "                L *= quad(normal_dencity, limits[i], limits[i+1], args = (teta_1, teta_2))[0]**data[i]\n",
    "        if (L > maxim):\n",
    "                maxim, best_teta_1, best_teta_2 = L, teta_1, teta_2\n",
    "print(best_teta_1, best_teta_2)"
   ]
  },
  {
   "cell_type": "markdown",
   "id": "2a7166a0-63ac-460c-977a-0783c97151dd",
   "metadata": {},
   "source": [
    "Хи-квадрат"
   ]
  },
  {
   "cell_type": "code",
   "execution_count": null,
   "id": "12e3e6df-482a-482e-9a4e-6815642faac2",
   "metadata": {},
   "outputs": [],
   "source": [
    "probabilities = np.array([quad(normal_dencity, limits[i], limits[i+1], args = (best_teta_1, best_teta_2))[0] for i in range(0, len(limits)-1)])"
   ]
  },
  {
   "cell_type": "code",
   "execution_count": null,
   "id": "5a43d12b-b07d-452e-9df2-3e0196cd2287",
   "metadata": {},
   "outputs": [
    {
     "name": "stdout",
     "output_type": "stream",
     "text": [
      "9.779231990914932\n"
     ]
    }
   ],
   "source": [
    "delta_hi = 0\n",
    "for i in range(len(data)):\n",
    "    delta_hi += (data[i]-N*probabilities[i])**2/(N*probabilities[i])\n",
    "print(delta_hi)"
   ]
  },
  {
   "cell_type": "markdown",
   "id": "f74fa61e-da01-4821-8b7a-0d72b5cd6c2f",
   "metadata": {},
   "source": [
    "Колмогоров"
   ]
  },
  {
   "cell_type": "code",
   "execution_count": null,
   "id": "f7b07e4b-aa4a-4ac1-8308-a3f615453d1b",
   "metadata": {},
   "outputs": [
    {
     "name": "stdout",
     "output_type": "stream",
     "text": [
      "delta  = 1.0047572223260337\n"
     ]
    }
   ],
   "source": [
    "arr_f = np.array([])\n",
    "for i in range(0,10):\n",
    "    arr_f =  np.append(arr_f, quad(normal_dencity, -np.inf, i, args = (best_teta_1, best_teta_2))[0])\n",
    "delta_b_kol = max(abs(arr_f - F_empirical))*np.sqrt(N)\n",
    "print( \"delta  =\", delta_b_kol)"
   ]
  },
  {
   "cell_type": "markdown",
   "id": "aaf41d8c-8091-4a55-a3c7-1e880889f67f",
   "metadata": {},
   "source": [
    "Параметрический Бутстрап:"
   ]
  },
  {
   "cell_type": "code",
   "execution_count": 12,
   "id": "883970f3-794c-4bb9-a24a-2f663c979aff",
   "metadata": {},
   "outputs": [],
   "source": [
    "delta_boot = np.array([])\n",
    "\n",
    "for i in range(0, 10000):\n",
    "    \n",
    "    bootstrap = np.sort(np.random.normal(best_teta_1, best_teta_2, N).astype(int))\n",
    "    count = np.array([])\n",
    "    for j in [0,1,2,3,4,5,6,7,8,9]: \n",
    "        count = np.append(count, sum(bootstrap == j)) \n",
    "        \n",
    "    delta_i_Mom = 0\n",
    "    teta_1_boot = np.mean(bootstrap)\n",
    "    teta_2_boot = (np.mean(bootstrap**2) - teta_1_boot**2)**0.5\n",
    "    probabilities_Mom_i = np.array([quad(normal_dencity, limits[k], limits[k+1], args = (teta_1_boot, teta_2_boot))[0] for k in range(0, len(limits)-1)])\n",
    "    for j in range(0,10):\n",
    "        delta_i_Mom +=  (count[j] - probabilities_Mom_i[j]*100)**2/(100*probabilities_Mom_i[j])\n",
    "    delta_boot = np.append(delta_boot, delta_i_Mom)\n",
    "    delta_boot.sort()"
   ]
  },
  {
   "cell_type": "code",
   "execution_count": 13,
   "id": "400904ac-a4ab-4715-b384-427d60a60ddc",
   "metadata": {},
   "outputs": [
    {
     "name": "stdout",
     "output_type": "stream",
     "text": [
      "p_value in Kolmogorov= 0.9997\n"
     ]
    }
   ],
   "source": [
    "delta_boot.sort() \n",
    "k_ = sum(delta_boot < delta_b_kol)\n",
    "k_ += 1\n",
    "p_value_b_kol = 1 - (k_ - 1)/10000\n",
    "print(\"p_value in Kolmogorov=\", p_value_b_kol)"
   ]
  },
  {
   "cell_type": "markdown",
   "id": "2dae34f0-9229-4e41-b154-95b0f412c79c",
   "metadata": {},
   "source": [
    "Пункт С) Метод моментов"
   ]
  },
  {
   "cell_type": "code",
   "execution_count": 14,
   "id": "8032d3f4-e0aa-4bc4-aee1-199c9d51e245",
   "metadata": {},
   "outputs": [
    {
     "name": "stdout",
     "output_type": "stream",
     "text": [
      "teta_1 in method of moments: 4.77 teta_2 in method of moments: 2.5054141374231933\n"
     ]
    }
   ],
   "source": [
    "samples = np.array([0, 0, 0, 0, 0, 1, 1, 1, 1, 1, 1, 1, 1, 2, 2, 2, 2, 2, 2, 3, 3, 3, 3, 3, 3, 3, 3, 3, 3, 3, 3, \n",
    "                 4, 4, 4, 4, 4, 4, 4, 4, 4, 4, 4, 4, 4, 4, 5, 5, 5, 5, 5, 5, 5, 5, 5, 5, 5, 5, 5, 5, 5, 5, 5, 5,\n",
    "                 6, 6, 6, 6, 6, 6, 6, 6, 6, 6, 6, 7, 7, 7, 7, 7, 7,\n",
    "                 8, 8, 8, 8, 8, 8, 8, 8, 8, 8, 8, 8, 8, 9, 9, 9, 9, 9, 9, 9])\n",
    "M_1 = np.mean(samples)\n",
    "M_2 = np.mean(samples**2) \n",
    "teta_1_Mom = M_1\n",
    "teta_2_Mom = (M_2 - M_1**2)**0.5\n",
    "print('teta_1 in method of moments:',teta_1_Mom,'teta_2 in method of moments:',teta_2_Mom)\n",
    "probabilities_Mom = np.array([quad(normal_dencity, limits[i], limits[i+1], args = (teta_1_Mom, teta_2_Mom))[0] for i in range(0, len(limits)-1)])"
   ]
  },
  {
   "cell_type": "code",
   "execution_count": 15,
   "id": "5b048e92-a65b-4b9b-bb76-0162bdc422e8",
   "metadata": {},
   "outputs": [
    {
     "name": "stdout",
     "output_type": "stream",
     "text": [
      "delta in method of moments 10.798973140500914\n"
     ]
    }
   ],
   "source": [
    "delta_Mom = 0\n",
    "for i in range(len(data)):\n",
    "    delta_Mom += (data[i] - probabilities_Mom[i]*100)**2/(100*probabilities_Mom[i])\n",
    "print('delta in method of moments',delta_Mom)"
   ]
  },
  {
   "cell_type": "code",
   "execution_count": 16,
   "id": "c310b45d-f076-4698-af95-38eeed595b85",
   "metadata": {},
   "outputs": [],
   "source": [
    "delta_Mom_Boot = np.array([])\n",
    "\n",
    "for i in range(0, 10000):\n",
    "    \n",
    "    bootstrap = np.sort(np.random.normal(teta_1_Mom, teta_2_Mom, N).astype(int))\n",
    "    count = np.array([])\n",
    "    for j in [0,1,2,3,4,5,6,7,8,9]: \n",
    "        count = np.append(count, sum(bootstrap == j)) \n",
    "        \n",
    "    delta_i_Mom = 0\n",
    "    teta_1_Mom_boot = np.mean(bootstrap)\n",
    "    teta_2_Mom_boot = (np.mean(bootstrap**2) - teta_1_Mom_boot**2)**0.5\n",
    "    probabilities_Mom_i = np.array([quad(normal_dencity, limits[k], limits[k+1], args = (teta_1_Mom_boot, teta_2_Mom_boot))[0] for k in range(0, len(limits)-1)])\n",
    "    for j in range(0,10):\n",
    "        delta_i_Mom +=  (count[j] - probabilities_Mom_i[j]*100)**2/(100*probabilities_Mom_i[j])\n",
    "    delta_Mom_Boot = np.append(delta_Mom_Boot, delta_i_Mom)\n",
    "    delta_Mom_Boot.sort()"
   ]
  },
  {
   "cell_type": "code",
   "execution_count": 17,
   "id": "83c6e892-1a84-4674-bd7c-b9301e3b12b4",
   "metadata": {},
   "outputs": [
    {
     "name": "stdout",
     "output_type": "stream",
     "text": [
      "p_value in method of moments = 0.20879999999999999\n"
     ]
    }
   ],
   "source": [
    "k_Mom = sum(delta_Mom_Boot < delta_Mom)\n",
    "k_Mom += 1\n",
    "p_value_Mom = 1 - (k_Mom - 1)/10000\n",
    "print(\"p_value in method of moments =\",p_value_Mom)"
   ]
  },
  {
   "cell_type": "code",
   "execution_count": null,
   "id": "032f3f74-36f4-46f8-86b3-e8f436963cad",
   "metadata": {},
   "outputs": [],
   "source": []
  }
 ],
 "metadata": {
  "kernelspec": {
   "display_name": "Python 3 (ipykernel)",
   "language": "python",
   "name": "python3"
  },
  "language_info": {
   "codemirror_mode": {
    "name": "ipython",
    "version": 3
   },
   "file_extension": ".py",
   "mimetype": "text/x-python",
   "name": "python",
   "nbconvert_exporter": "python",
   "pygments_lexer": "ipython3",
   "version": "3.10.0"
  }
 },
 "nbformat": 4,
 "nbformat_minor": 5
}
