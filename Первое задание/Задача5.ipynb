{
 "cells": [
  {
   "cell_type": "code",
   "execution_count": 1,
   "id": "92bc01fa-e7e0-4a2d-9708-c0e032b068e1",
   "metadata": {},
   "outputs": [],
   "source": [
    "import numpy as np\n",
    "N=100\n",
    "tetha=30\n",
    "quantil=1.96\n",
    "eps=0.05"
   ]
  },
  {
   "cell_type": "code",
   "execution_count": 2,
   "id": "76ad0151-be90-4132-ad0f-cde6d3d129ff",
   "metadata": {},
   "outputs": [],
   "source": [
    "matr=np.random.sample(N)"
   ]
  },
  {
   "cell_type": "code",
   "execution_count": 3,
   "id": "81e16be7-b993-46f1-9842-0fbe54168910",
   "metadata": {},
   "outputs": [
    {
     "name": "stdout",
     "output_type": "stream",
     "text": [
      "[1.0373060611657419, 1.0273553165780647, 1.029224352280993, 1.0199030706162397, 1.0268995992843317, 1.1214604304630797, 1.2161784987953388, 1.0097977400517297, 1.026457866730712, 1.0146605414470526, 1.0094016358889282, 1.067413567865909, 1.0296939335889412, 1.0072971610651371, 1.0042046432427425, 1.0312604161587322, 1.0220390112960276, 1.0413807247514095, 1.0387623801344417, 1.1081054627227516, 1.0157641015491046, 1.0237139426294226, 1.061356431887649, 1.001222472908729, 1.0945755422114962, 1.0417738252604696, 1.0012603826857052, 1.2295592369373154, 1.0039730367570223, 1.106461702688247, 1.069819538920939, 1.0719035808677524, 1.006540486208647, 1.008778415137731, 1.0025594847843904, 1.0249046350420752, 1.0230665523959386, 1.0152897314517952, 1.027714215728821, 1.0105395486904025, 1.0346309431884884, 1.009894426561107, 1.0093194816618334, 1.0874937764586565, 1.0753884390410482, 1.0293381483957984, 1.0679695327371905, 1.0087799731227534, 1.0961671698561646, 1.0178066091562923, 1.0020149776129952, 1.015787731984087, 1.0435045133320686, 1.010318129874348, 1.0373758146826588, 1.005672182874995, 1.1545252835605586, 1.0530022833081174, 1.0066140948196416, 1.0403492030492696, 1.0393629884202058, 1.0449484979097174, 1.0065945557116722, 1.1020568208483181, 1.000788997493804, 1.0060944590766139, 1.0057891786611444, 1.0327666662026547, 1.0976251223324136, 1.0620960808649347, 1.011054424229328, 1.0062307105556219, 1.0365019307527565, 1.0280665303651346, 1.018829852826047, 1.027427191008951, 1.0480841034069281, 1.00606607088728, 1.008270190612615, 1.0215222307677938, 1.0330949541617636, 1.0259738440549988, 1.0182374379045638, 1.0148126899416758, 1.0520427136541124, 1.0696683134449085, 1.0350938360785376, 1.0230660817889892, 1.0036609346417045, 1.1171856744849604, 1.0113110162490166, 1.020719513771481, 1.001240827355827, 1.0286084938772122, 1.005792446916413, 1.0346747283033584, 1.0924162556350603, 1.0746294963139342, 1.021789040297686, 1.0120459569510227]\n"
     ]
    }
   ],
   "source": [
    "samples=[(1-x)**(1/(1 - tetha)) for x in matr]\n",
    "print(samples)"
   ]
  },
  {
   "cell_type": "markdown",
   "id": "5364bac3-ee73-4d49-9a4b-20c9797618ff",
   "metadata": {},
   "source": [
    "ОМП:"
   ]
  },
  {
   "cell_type": "code",
   "execution_count": 4,
   "id": "5687b306-1495-4a40-ba0e-98b68e917f59",
   "metadata": {},
   "outputs": [],
   "source": [
    "sum_log=0\n",
    "for sample in samples:\n",
    "    sum_log+=np.log(sample)\n",
    "teta_OMP=N/sum_log+1"
   ]
  },
  {
   "cell_type": "code",
   "execution_count": 5,
   "id": "9e84eaef-79b3-491e-bb35-2065ef577dbf",
   "metadata": {},
   "outputs": [
    {
     "name": "stdout",
     "output_type": "stream",
     "text": [
      "ОМП: 28.069119743046446\n"
     ]
    }
   ],
   "source": [
    "print('ОМП:',teta_OMP)"
   ]
  },
  {
   "cell_type": "markdown",
   "id": "d8c07672-e371-4c66-b7f0-81404565b028",
   "metadata": {},
   "source": [
    "Доверительный интервал для Медианы:"
   ]
  },
  {
   "cell_type": "code",
   "execution_count": 6,
   "id": "e0478b3f-ebe6-4775-9326-e76dff530193",
   "metadata": {},
   "outputs": [
    {
     "name": "stdout",
     "output_type": "stream",
     "text": [
      "Доверительный Интервал для медианы [1.0207881668820453, 1.0310862924929396]\n"
     ]
    }
   ],
   "source": [
    "med_interval = [2**(1 / (teta_OMP - 1))*(1 - np.log(2)*quantil / N**(0.5) / (teta_OMP - 1)), \n",
    "                2**(1 / (teta_OMP - 1))*(1 + np.log(2)*quantil / N**(0.5) / (teta_OMP - 1))]\n",
    "print('Доверительный Интервал для медианы',med_interval)"
   ]
  },
  {
   "cell_type": "markdown",
   "id": "7dbdb09b-cd42-4069-8372-dfe9eb92356c",
   "metadata": {},
   "source": [
    "Асимптотический доверительный интервал"
   ]
  },
  {
   "cell_type": "code",
   "execution_count": 7,
   "id": "d9eabedb-2a9e-4837-96bb-bc1f179762b5",
   "metadata": {},
   "outputs": [
    {
     "name": "stdout",
     "output_type": "stream",
     "text": [
      "Асимптотический доверительный интервал для Тета: [22.763572273409345, 33.37466721268355]\n"
     ]
    }
   ],
   "source": [
    "OMP_interval = [teta_OMP - quantil * (teta_OMP - 1) / N**0.5,\n",
    "               teta_OMP + quantil * (teta_OMP - 1) / N**0.5]\n",
    "print('Асимптотический доверительный интервал для Тета:', OMP_interval)"
   ]
  },
  {
   "cell_type": "code",
   "execution_count": 8,
   "id": "000e6e01-6edf-4c27-82f0-ef4d35ab6af4",
   "metadata": {},
   "outputs": [],
   "source": [
    "def OMP_for_bootstrap(vals, N):\n",
    "    return 1 + N / sum([np.log(x) for x in vals])"
   ]
  },
  {
   "cell_type": "markdown",
   "id": "4eb373d3-a9b3-4c1b-94c5-b5263785de31",
   "metadata": {},
   "source": [
    "Непараметрический Bootstrap:"
   ]
  },
  {
   "cell_type": "code",
   "execution_count": 9,
   "id": "91eb89f1-348a-464b-b7da-4caa86b7b3c2",
   "metadata": {},
   "outputs": [
    {
     "name": "stdout",
     "output_type": "stream",
     "text": [
      "Доверительный интервал непараметрический Bootstrap: [21.640535596981337, 32.83394222040963]\n"
     ]
    }
   ],
   "source": [
    "bootstrap_variation = np.sort(np.array([OMP_for_bootstrap(np.random.choice(samples, len(samples)), N) - teta_OMP for i in range(1000)]))\n",
    "bootstrap_interval = [teta_OMP - bootstrap_variation[975], teta_OMP - bootstrap_variation[25]]\n",
    "print('Доверительный интервал непараметрический Bootstrap:',bootstrap_interval )"
   ]
  },
  {
   "cell_type": "markdown",
   "id": "fd7c39ec-083f-4a8d-b412-2456a38bb3c0",
   "metadata": {},
   "source": [
    "Параметрический Bootstrap:\n"
   ]
  },
  {
   "cell_type": "code",
   "execution_count": 10,
   "id": "94f0ca01-5fc5-4e76-abf8-5c0fa509776a",
   "metadata": {},
   "outputs": [
    {
     "name": "stdout",
     "output_type": "stream",
     "text": [
      "Доверительный интервал параметрический Bootstrap: [25.020932378309478, 36.72113646272291]\n"
     ]
    }
   ],
   "source": [
    "pbootstrap_variation = np.sort(np.array([OMP_for_bootstrap([(1-x)**(1/(1 - tetha)) for x in np.random.sample(N)], N) for i in range(10000)]))\n",
    "pbootstrap_interval = [pbootstrap_variation[int(eps/2*10000)], pbootstrap_variation[int((1 - eps/2)*10000)]]\n",
    "print('Доверительный интервал параметрический Bootstrap:',pbootstrap_interval)"
   ]
  },
  {
   "cell_type": "markdown",
   "id": "69bbcf1b-ee9c-4f02-a4bc-479fdcda7349",
   "metadata": {},
   "source": [
    "Посмотрим на все интервалы:"
   ]
  },
  {
   "cell_type": "code",
   "execution_count": 11,
   "id": "e76598ab-d97d-4e85-90c9-eecfb877c4ed",
   "metadata": {},
   "outputs": [
    {
     "name": "stdout",
     "output_type": "stream",
     "text": [
      "Доверительный Интервал для медианы [1.0207881668820453, 1.0310862924929396]\n",
      "Асимптотический доверительный интервал для Тета: [22.763572273409345, 33.37466721268355]\n",
      "Доверительный интервал непараметрический Bootstrap: [21.640535596981337, 32.83394222040963]\n",
      "Доверительный интервал параметрический Bootstrap: [25.020932378309478, 36.72113646272291]\n"
     ]
    }
   ],
   "source": [
    "print('Доверительный Интервал для медианы',med_interval)\n",
    "print('Асимптотический доверительный интервал для Тета:', OMP_interval)\n",
    "print('Доверительный интервал непараметрический Bootstrap:',bootstrap_interval )\n",
    "print('Доверительный интервал параметрический Bootstrap:',pbootstrap_interval)"
   ]
  },
  {
   "cell_type": "code",
   "execution_count": null,
   "id": "2dee6cae-9491-4c12-9ea3-0cec27cedc03",
   "metadata": {},
   "outputs": [],
   "source": []
  }
 ],
 "metadata": {
  "kernelspec": {
   "display_name": "Python 3 (ipykernel)",
   "language": "python",
   "name": "python3"
  },
  "language_info": {
   "codemirror_mode": {
    "name": "ipython",
    "version": 3
   },
   "file_extension": ".py",
   "mimetype": "text/x-python",
   "name": "python",
   "nbconvert_exporter": "python",
   "pygments_lexer": "ipython3",
   "version": "3.10.0"
  }
 },
 "nbformat": 4,
 "nbformat_minor": 5
}
