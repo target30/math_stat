{
 "cells": [
  {
   "cell_type": "code",
   "execution_count": 1,
   "id": "5d02c3e7-627a-40f1-967b-eef502d6887c",
   "metadata": {},
   "outputs": [],
   "source": [
    "import random\n",
    "import scipy\n",
    "import numpy as np\n",
    "from numpy import linalg\n",
    "from scipy.stats import t, f, norm, ksone\n",
    "import matplotlib.pyplot as plt"
   ]
  },
  {
   "cell_type": "code",
   "execution_count": 2,
   "id": "c92e0adc-1ab7-43c2-a1f6-741e377e6eec",
   "metadata": {},
   "outputs": [],
   "source": [
    "n = 50\n",
    "n_koeffs= 5\n",
    "p = n_koeffs + 1\n"
   ]
  },
  {
   "cell_type": "markdown",
   "id": "d5317117-e69e-4f2d-b2db-edf3f2e2cf23",
   "metadata": {},
   "source": [
    "Для распределения Кси равномерного(-1,1)"
   ]
  },
  {
   "cell_type": "code",
   "execution_count": 3,
   "id": "f3118588-81b7-4a8f-a87b-c4a4fc30fb6b",
   "metadata": {},
   "outputs": [],
   "source": [
    "def get_x():\n",
    "    return [random.uniform(-1, 1) for i in range(n_koeffs)]"
   ]
  },
  {
   "cell_type": "markdown",
   "id": "d6623200-fdfa-4585-850a-17db9701e06f",
   "metadata": {},
   "source": [
    "Для распределения нормального"
   ]
  },
  {
   "cell_type": "code",
   "execution_count": 4,
   "id": "0e51c957-cac8-4b04-bf76-ad33a7734bcc",
   "metadata": {},
   "outputs": [],
   "source": [
    "def get_y(x):\n",
    "    return random.normalvariate(2 + 3*x[0,0] - 2*x[0,1] + x[0,2] + x[0,3] - x[0,4], 1.5)"
   ]
  },
  {
   "cell_type": "code",
   "execution_count": 5,
   "id": "ee38c679-909a-437d-a53d-0de077c883db",
   "metadata": {},
   "outputs": [],
   "source": [
    "X = [];\n",
    "for i in range(n):\n",
    "    X.append(get_x())\n",
    "X = np.matrix(X);\n",
    "Y = np.matrix([get_y(X[i]) for i in range(n)]).T\n"
   ]
  },
  {
   "cell_type": "markdown",
   "id": "4ef46a6f-e901-4666-84ca-ae9188d9a72c",
   "metadata": {},
   "source": [
    "## а) Проверить на мультиколлинеарность(Наличие линейной зависимости между объясняющими переменными (факторами) регрессионной модели.)"
   ]
  },
  {
   "cell_type": "code",
   "execution_count": 6,
   "id": "5fd9cdd1-2cd8-44cb-a2f8-9fd4b22ae823",
   "metadata": {},
   "outputs": [
    {
     "name": "stdout",
     "output_type": "stream",
     "text": [
      "R0 = 0.03068475460644355\n",
      "R1 = 0.04062250707691368\n",
      "R2 = 0.01619875295925501\n",
      "R3 = 0.012026252809220353\n",
      "R4 = 0.01646652446411689\n",
      "есть \n"
     ]
    }
   ],
   "source": [
    "def psi_point(x):\n",
    "    return np.matrix([1] + x)\n",
    "def get_Psi(X):\n",
    "     return np.append(np.matrix(np.ones(X.shape[0])).T, X.copy(), 1)\n",
    "def get_F(Psi):\n",
    "    return Psi.T @ Psi;\n",
    "def get_beta(Psi, Y):\n",
    "    return get_inv(get_F(Psi)) @ Psi.T @ Y\n",
    "def get_e(Y, Psi, beta):\n",
    "    return Y - Psi @ beta\n",
    "def get_inv(A):\n",
    "    return linalg.inv(A)\n",
    "def get_RSS(e):\n",
    "    return (e.transpose() @ e)[0,0]\n",
    "def get_TSS(Y):\n",
    "    av_y = np.sum(Y)/Y.size\n",
    "    return sum([(Y[i, 0]-av_y)**2 for i in range(Y.size)])\n",
    "def get_R(RSS, TSS):\n",
    "    return (TSS - RSS)/TSS\n",
    "    return sum([(Y[i, 0]-av_y)**2 for i in range(Y.size)])\n",
    "flag = False\n",
    "for i in range(n_koeffs):\n",
    "    Psi = X.copy()\n",
    "    Psi[:, i] = np.matrix(np.ones(n)).T\n",
    "    Yi = X[:, i]\n",
    "    beta = get_beta(Psi, Yi)\n",
    "    RSS = get_RSS(get_e(Yi, Psi, beta))\n",
    "    TSS = get_TSS(Yi)\n",
    "    R = get_R(RSS, TSS)\n",
    "    if(R>=0.8):\n",
    "        flag=1\n",
    "    print(f\"R{i} = {R}\")\n",
    "\n",
    "if(not flag):\n",
    "    print(\"есть \")\n",
    "else:\n",
    "    print(\"нет\")\n",
    "    \n",
    "    "
   ]
  },
  {
   "cell_type": "markdown",
   "id": "d0637174-8faa-4236-b6b3-4a24e8fb6d2f",
   "metadata": {},
   "source": [
    "## b) Определелить уравнение линейной регрессии и значимость коэффициентов"
   ]
  },
  {
   "cell_type": "code",
   "execution_count": 7,
   "id": "da22be92-434a-47ac-8d8d-521c39a6d119",
   "metadata": {},
   "outputs": [],
   "source": [
    "def check_significance_beta(Psi, beta, RSS, n, p, i):\n",
    "    alpha = 0.05\n",
    "    delta = beta[i]*(n-p)**0.5\n",
    "    delta /= (RSS * get_inv(get_F(Psi))[i,i])**0.5\n",
    "    delta = delta[0,0]\n",
    "    p_value = 2.*(1-t.cdf(abs(delta), n-p))\n",
    "    if(p_value < alpha):\n",
    "        print(f\"p_value ({p_value}) < alpha ({alpha}) => beta{i+1} значим\")\n",
    "    else:\n",
    "        print(f\"p_value ({p_value}) > alpha ({alpha}) => beta{i+1} не является значимым\")\n"
   ]
  },
  {
   "cell_type": "code",
   "execution_count": 8,
   "id": "e6735020-fd4d-440c-9330-77e3257437f5",
   "metadata": {},
   "outputs": [
    {
     "name": "stdout",
     "output_type": "stream",
     "text": [
      "p_value (7.327471962526033e-15) < alpha (0.05) => beta1 значим\n",
      "p_value (1.0058620603103918e-12) < alpha (0.05) => beta2 значим\n",
      "p_value (4.169684397758999e-08) < alpha (0.05) => beta3 значим\n",
      "p_value (0.0018418622138778318) < alpha (0.05) => beta4 значим\n",
      "p_value (0.00027643082843353817) < alpha (0.05) => beta5 значим\n",
      "p_value (0.00012024848171465763) < alpha (0.05) => beta6 значим\n"
     ]
    }
   ],
   "source": [
    "Psi = get_Psi(X)\n",
    "beta= get_beta(Psi, Y)\n",
    "e = get_e(Y, Psi, beta)\n",
    "RSS = get_RSS(e)\n",
    "for i in range(p):\n",
    "    check_significance_beta(Psi, beta, RSS, n, p, i)"
   ]
  },
  {
   "cell_type": "markdown",
   "id": "c4a184dd-d2a8-4d77-a526-31ba57d7ada2",
   "metadata": {},
   "source": [
    "## c) Коэффициент детерминации и проверить его значимость"
   ]
  },
  {
   "cell_type": "code",
   "execution_count": 9,
   "id": "57d826a7-5e53-4937-bd01-5266543e9403",
   "metadata": {},
   "outputs": [
    {
     "name": "stdout",
     "output_type": "stream",
     "text": [
      "TSS = 413.65466794907644\n",
      "R^2 = 0.7901426453344577\n",
      "p_value (7.283063041541027e-14) < α (0.05) -> регрессия значима\n"
     ]
    }
   ],
   "source": [
    "def check_significance_R(R, n, p):\n",
    "    alpha = 0.05\n",
    "    delta = R/(1-R)*(n-p)*1./(p-1)\n",
    "    p_value = 1-f.cdf(delta, p-1, n-p)\n",
    "    if(p_value < alpha):\n",
    "        print(f\"p_value ({p_value}) < α ({alpha}) -> регрессия значима\")\n",
    "    else:\n",
    "        print(f\"p_value ({p_value}) > α ({alpha}) -> регрессия не является значимой\")\n",
    "TSS = get_TSS(Y)\n",
    "R = get_R(RSS, TSS)\n",
    "print(f\"TSS = {TSS}\")\n",
    "print(f\"R^2 = {R}\")\n",
    "check_significance_R(R, n, p)"
   ]
  },
  {
   "cell_type": "markdown",
   "id": "fbda89aa-30be-4515-9689-4f8e59bb4b5a",
   "metadata": {},
   "source": [
    "## d) Найти значение в точке x_k=0 и постороить 95% доверительный интервал"
   ]
  },
  {
   "cell_type": "code",
   "execution_count": 10,
   "id": "e0cc7b00-97c8-4c5b-b35d-3019e25bf7be",
   "metadata": {},
   "outputs": [],
   "source": [
    "def get_forecast(x0, beta):\n",
    "    Psi_0 = psi_point(x0)\n",
    "    return (Psi_0 @ beta)[0,0]\n",
    "\n",
    "def forecast(x0, beta, F, RSS, n, p, gamma):\n",
    "    Psi_0 = psi_point(x0)\n",
    "    y0 = get_forecast(x0, beta)\n",
    "    print(f\"Прогноз в точке x_k: {y0}\")\n",
    "    \n",
    "    t_gamma = t.ppf((1+gamma)/2, n-p)\n",
    "    F_1 = get_inv(get_F(Psi))\n",
    "    delta = t_gamma * (1 + (Psi_0*F_1*Psi_0.T)[0,0])**0.5 * (RSS/(n-p))**0.5\n",
    "    print(f\"Доверительный интервал: ({y0-delta}, {y0+delta})\")"
   ]
  },
  {
   "cell_type": "code",
   "execution_count": 11,
   "id": "a2b9bb8e-d7d7-4543-b790-9ff4f76cbb64",
   "metadata": {},
   "outputs": [
    {
     "name": "stdout",
     "output_type": "stream",
     "text": [
      "Прогноз в точке x_k: 2.340374751328718\n",
      "Доверительный интервал: (-0.5199484727938422, 5.200697975451279)\n"
     ]
    }
   ],
   "source": [
    "F = get_F(Psi)\n",
    "forecast([0 for i in range(n_koeffs)], beta, F, RSS, n, p, 0.95)"
   ]
  },
  {
   "cell_type": "markdown",
   "id": "3bf21ce4-448e-4d93-9e6a-486970c36c25",
   "metadata": {},
   "source": [
    "## е) Проверим предположении о независимости ошибок измерения"
   ]
  },
  {
   "cell_type": "code",
   "execution_count": 27,
   "id": "563da174-e4ee-486e-b38a-e9b76722e9f9",
   "metadata": {},
   "outputs": [],
   "source": [
    "def check_error_independence(e):\n",
    "    alpha = 0.05\n",
    "    n = e.size\n",
    "    I = 0\n",
    "    for i in range(n):\n",
    "        for j in range(i+1, n):\n",
    "            if e[i, 0] > e[j, 0]:\n",
    "                I += 1\n",
    "    print(f\"I = {I}\")\n",
    "    \n",
    "    delta = (I - n*(n-1)/4) / np.sqrt(n**3 / 36) \n",
    "    print(f\"delta = {delta}\")\n",
    "    \n",
    "    p_value = 2.*(1-norm.cdf(abs(delta)))\n",
    "    print(f\"p_value = {p_value}\")\n",
    "    if(p_value < alpha):\n",
    "        print(f\"p_value < α -> ошибки зависимы\")\n",
    "    else:\n",
    "        print(f\"p_value > α -> ошибки независимы\")"
   ]
  },
  {
   "cell_type": "code",
   "execution_count": 28,
   "id": "43d74457-2256-4569-aadd-440233188103",
   "metadata": {},
   "outputs": [
    {
     "name": "stdout",
     "output_type": "stream",
     "text": [
      "I = 606\n",
      "delta = -0.11030865786510141\n",
      "p_value = 0.9121645911853389\n",
      "p_value > α -> ошибки независимы\n"
     ]
    }
   ],
   "source": [
    "check_error_independence(e)"
   ]
  },
  {
   "cell_type": "markdown",
   "id": "754cf616-ad5d-46ad-b01c-2c8173d73bca",
   "metadata": {},
   "source": [
    "## f) Проверим предположение о нормальном распределении ошибок"
   ]
  },
  {
   "cell_type": "code",
   "execution_count": 29,
   "id": "3e6af8e2-6f49-49d9-a17b-e52dcd214b4e",
   "metadata": {},
   "outputs": [],
   "source": [
    "def get_av_e(e):\n",
    "    return sum(e)/n\n",
    "\n",
    "def get_sigma_for_err_norm(e):\n",
    "    n = e.size\n",
    "    av_e = get_av_e(e)\n",
    "    sigma = sum([(e[i, 0] - av_e)**2 for i in range(n)])/(n-1)\n",
    "    return np.sqrt(sigma[0,0])\n",
    "    \n",
    "    \n",
    "def get_delta_for_err_norm(e):\n",
    "    n = e.size\n",
    "    F = lambda x: (e < x).sum()/n\n",
    "    sigma = get_sigma_for_err_norm(e)\n",
    "    av_e = get_av_e(e)\n",
    "    F_n = lambda x: norm.cdf(x, av_e, sigma)\n",
    "    F = np.matrix([F(e[i, 0]) for i in range(n)]).T\n",
    "    F_n = F_n(e)\n",
    "    delta = np.max(np.abs(F - F_n))*np.sqrt(n)\n",
    "    return delta\n",
    "\n",
    "def check_error_norm(e):\n",
    "    n = e.size\n",
    "    sigma = get_sigma_for_err_norm(e)\n",
    "    print(f\"sigma = {sigma}\")\n",
    "    delta = get_delta_for_err_norm(e)\n",
    "    print(f\"delta = {delta}\")\n",
    "    delta_i = []\n",
    "    N = 10000\n",
    "    av_e = get_av_e(e)\n",
    "    for i in range(N):\n",
    "        e_i = np.matrix([norm.rvs(av_e, sigma) for i in range(n)]).T\n",
    "        delta_i.append(get_delta_for_err_norm(e_i))\n",
    "    k = (delta_i < delta).sum() + 1\n",
    "    p_value = 1-(k-1)/N\n",
    "    print(f\"p_value = {p_value}\")\n",
    "    \n",
    "def draw_F(e):\n",
    "    x = np.linspace(np.min(e)-1, np.max(e)+1, 1000)\n",
    "    n = e.size\n",
    "    F = lambda x: (e < x).sum()/n\n",
    "    sigma = get_sigma_for_err_norm(e)\n",
    "    F_n = lambda x: norm.cdf(x, 0, sigma)\n",
    "    plt.plot(x, [F(x[i]) for i in range(x.size)])\n",
    "    plt.plot(x, F_n(x))"
   ]
  },
  {
   "cell_type": "code",
   "execution_count": 30,
   "id": "eb195df8-732b-4f4d-873b-5500ee0ab36f",
   "metadata": {},
   "outputs": [
    {
     "data": {
      "image/png": "[encoded data removed]",
      "text/plain": [
       "<Figure size 432x288 with 1 Axes>"
      ]
     },
     "metadata": {
      "needs_background": "light"
     },
     "output_type": "display_data"
    }
   ],
   "source": [
    "get_sigma_for_err_norm(e)\n",
    "draw_F(e)\n",
    "# check_error_norm(e)"
   ]
  },
  {
   "cell_type": "code",
   "execution_count": 31,
   "id": "0d2b73ee-9f6f-4549-9b09-9a8adcf3dbc0",
   "metadata": {},
   "outputs": [
    {
     "name": "stdout",
     "output_type": "stream",
     "text": [
      "sigma = 1.3310152206373511\n",
      "delta = 0.6954492792029607\n",
      "p_value = 0.1654\n"
     ]
    }
   ],
   "source": [
    "check_error_norm(e)"
   ]
  },
  {
   "cell_type": "markdown",
   "id": "ab2a2d15-46c2-4e2d-8956-d45c6d0aaa63",
   "metadata": {},
   "source": [
    "## h) Кросс-проверка регрессии на выбросы"
   ]
  },
  {
   "cell_type": "code",
   "execution_count": 40,
   "id": "6ddd944e-27d2-45af-9394-3d95f03616e2",
   "metadata": {},
   "outputs": [],
   "source": [
    "def get_Rcv(CVSS, TSS):\n",
    "    return (TSS - CVSS)/TSS\n",
    "\n",
    "def CV(X, Y):\n",
    "    CVSS = 0\n",
    "    for i in range(X.shape[0]):\n",
    "        x = [X[i,j].copy() for j in range(X.shape[1])]\n",
    "        y = Y[i].copy()\n",
    "        X_i = np.delete(X, i, 0)\n",
    "        Y_i = np.delete(Y, i, 0)\n",
    "        Psi_i = get_Psi(X_i)\n",
    "        beta_i = get_beta(Psi_i, Y_i)\n",
    "        CVSS += ((get_forecast(x, beta_i) - y) ** 2)[0,0]\n",
    "    print(f\"CVSS = {CVSS}\")\n",
    "    TSS = get_TSS(Y)\n",
    "    print(f\"Rcv = {get_Rcv(CVSS, TSS)}\")\n"
   ]
  },
  {
   "cell_type": "code",
   "execution_count": 41,
   "id": "910fd009-16e8-4943-8a97-ffa0af6dba05",
   "metadata": {},
   "outputs": [
    {
     "name": "stdout",
     "output_type": "stream",
     "text": [
      "CVSS = 112.9210061382589\n",
      "Rcv = 0.7270162411121147\n"
     ]
    }
   ],
   "source": [
    "CV(X, Y)"
   ]
  },
  {
   "cell_type": "markdown",
   "id": "406d5330-a934-4e09-8eba-73730193d050",
   "metadata": {},
   "source": [
    "## i) пять измерений в одной точке"
   ]
  },
  {
   "cell_type": "code",
   "execution_count": 51,
   "id": "b9000a7d-2d8b-4d66-8075-d4fb9410b604",
   "metadata": {},
   "outputs": [],
   "source": [
    "def get_sigma_for_y(y):\n",
    "    l = y.size\n",
    "    av_y = sum(y)/l\n",
    "    sigma = sum([(y[i] - av_y)**2 for i in range(l)])/(l-1)\n",
    "    return sigma\n",
    "\n",
    "def check_adequacy(RSS, n, p):\n",
    "    alpha = 0.05\n",
    "    k = 5\n",
    "    x = np.matrix(get_x())\n",
    "    y_x = np.array([get_y(x) for i in range(k)])\n",
    "    print(\"x = \" + \", \".join(map(str, x[0].tolist())))\n",
    "    for i in range(len(y_x)):\n",
    "        print(f\"y{i+1} = {y_x[i]}\")\n",
    "        \n",
    "    sigma = get_sigma_for_y(y_x)\n",
    "    print(f\"sigma^2 = {sigma}\")\n",
    "    \n",
    "    if(RSS <= sigma*(k-1)):\n",
    "        print(f\"{RSS} <= {sigma*(k-1)} -> Модель адекватна без проверки\")\n",
    "        return\n",
    "    \n",
    "    print(f\"\\n{RSS} > {sigma*(k-1)} -> нужна проверка\")\n",
    "    delta = RSS/(n-p)/sigma\n",
    "    print(f\"delta = {delta}\")\n",
    "    \n",
    "    p_value = 1-f.cdf(delta, n-p, k-1)\n",
    "    print(f\"p_value = {p_value}\")\n",
    "    if(p_value < alpha):\n",
    "        print(f\"p_value < alpha -> Модель не адекватна\")\n",
    "    else:\n",
    "        print(f\"p_value > alpha -> Модель адекватна\")"
   ]
  },
  {
   "cell_type": "code",
   "execution_count": 52,
   "id": "200dc7d8-121c-40ed-a80c-71e1f5db5aa7",
   "metadata": {},
   "outputs": [
    {
     "name": "stdout",
     "output_type": "stream",
     "text": [
      "x = [-0.6171695903825214, -0.11171552103764815, -0.7271247468881701, -0.2367307305513373, 0.9236272448138096]\n",
      "y1 = -0.36980777437381485\n",
      "y2 = -2.11311553192252\n",
      "y3 = 0.636483991302428\n",
      "y4 = -0.9804599853611029\n",
      "y5 = -3.8351024203348167\n",
      "sigma^2 = 2.9499964711203\n",
      "\n",
      "86.80847436084652 > 11.7999858844812 -> нужна проверка\n",
      "delta = 0.668787197256605\n",
      "p_value = 0.779972936672003\n",
      "p_value > alpha -> Модель адекватна\n"
     ]
    }
   ],
   "source": [
    "check_adequacy(RSS, n, p)"
   ]
  },
  {
   "cell_type": "markdown",
   "id": "d8d8071b-49c4-4b2c-b6c6-17c8994d32da",
   "metadata": {},
   "source": [
    "## j) Удалить наименее значимый коэффициент и повторить b и с!"
   ]
  },
  {
   "cell_type": "code",
   "execution_count": 58,
   "id": "ad690ce2-f9c7-4dac-8ddc-f38783992d53",
   "metadata": {},
   "outputs": [
    {
     "name": "stdout",
     "output_type": "stream",
     "text": [
      "RSS = 108.48904721186378\n",
      "p_value (1.3988810110276972e-13) < alpha (0.05) => beta1 значим\n",
      "p_value (2.262190434976219e-11) < alpha (0.05) => beta2 значим\n",
      "p_value (7.381328992472902e-07) < alpha (0.05) => beta3 значим\n",
      "p_value (0.0003707154086511899) < alpha (0.05) => beta4 значим\n",
      "p_value (0.0005659339191019797) < alpha (0.05) => beta5 значим\n"
     ]
    }
   ],
   "source": [
    "num_del = 3\n",
    "Psi = get_Psi(X)\n",
    "Psi1 = np.delete(Psi, num_del, 1)\n",
    "p1 = p-1\n",
    "beta1 = get_beta(Psi1, Y)\n",
    "e1 = get_e(Y, Psi1, beta1)\n",
    "RSS1 = get_RSS(e1)\n",
    "print(f\"RSS = {RSS1}\")\n",
    "for i in range(p1):\n",
    "    check_significance_beta(Psi1, beta1, RSS1, n, p1, i)"
   ]
  },
  {
   "cell_type": "markdown",
   "id": "4bfacf94-107d-45d3-bb2a-e465a22ee8a8",
   "metadata": {},
   "source": [
    "## k)Bootstrap"
   ]
  },
  {
   "cell_type": "code",
   "execution_count": 65,
   "id": "d8dc30ca-7df7-4ad4-8da5-b16040690490",
   "metadata": {},
   "outputs": [],
   "source": [
    "def get_X_1(X):\n",
    "    X_1 = []\n",
    "    for j in range(X.shape[0]):\n",
    "        X_1.append(random.choices(X[j].tolist()[0], k=X.shape[1]))\n",
    "    return np.matrix(X_1)\n",
    "\n",
    "def get_R_for_Psi(Psi_1, Y):\n",
    "    beta_1 = get_beta(Psi_1, Y)\n",
    "    e_1 = get_e(Y, Psi_1, beta_1)\n",
    "    RSS_1 = get_RSS(e_1)\n",
    "    TSS = get_TSS(Y)\n",
    "    R_1 = get_R(RSS_1, TSS)\n",
    "    return R_1\n",
    "\n",
    "def comp_bootstrap(X, Y, num_del):\n",
    "    alpha = 0.05\n",
    "    N = 1000\n",
    "    n = X.shape[0]\n",
    "    \n",
    "    Psi = get_Psi(X)\n",
    "    Psi1 = np.delete(Psi, num_del, 1)\n",
    "    delta = get_R_for_Psi(Psi, Y) - get_R_for_Psi(Psi1, Y)\n",
    "    \n",
    "    delta_1 = []\n",
    "    for i in range(N):\n",
    "        X_1 = get_X_1(X)\n",
    "        Psi_1 = get_Psi(X_1)\n",
    "        Psi1_1 = np.delete(Psi_1, num_del, 1)\n",
    "        delta_1.append(get_R_for_Psi(Psi_1, Y) - get_R_for_Psi(Psi1_1, Y))\n",
    "    \n",
    "    m = (delta_1 >= delta).sum()\n",
    "    p_value = m/N\n",
    "    print(f\"p_value = {p_value}\")\n",
    "    if(p_value < alpha):\n",
    "        print(f\"p_value < alpha => Усложнение оправдано\")\n",
    "    else:\n",
    "        print(f\"p_value > alpha => Усложнение не оправдано\")"
   ]
  },
  {
   "cell_type": "code",
   "execution_count": 66,
   "id": "81a5f860-fa57-4ca3-9696-30d843f6e778",
   "metadata": {},
   "outputs": [
    {
     "name": "stdout",
     "output_type": "stream",
     "text": [
      "p_value = 0.149\n",
      "p_value > alpha => Усложнение не оправдано\n"
     ]
    }
   ],
   "source": [
    "comp_bootstrap(X, Y, num_del)"
   ]
  }
 ],
 "metadata": {
  "kernelspec": {
   "display_name": "Python 3 (ipykernel)",
   "language": "python",
   "name": "python3"
  },
  "language_info": {
   "codemirror_mode": {
    "name": "ipython",
    "version": 3
   },
   "file_extension": ".py",
   "mimetype": "text/x-python",
   "name": "python",
   "nbconvert_exporter": "python",
   "pygments_lexer": "ipython3",
   "version": "3.10.0"
  }
 },
 "nbformat": 4,
 "nbformat_minor": 5
}
