{
 "cells": [
  {
   "cell_type": "code",
   "execution_count": 11,
   "id": "320375b9-c3c2-4427-8d1c-e7e82a9a7dba",
   "metadata": {},
   "outputs": [
    {
     "name": "stdout",
     "output_type": "stream",
     "text": [
      "[89, 64, 62, 81, 55, 81, 66, 68, 98, 70, 68, 70, 90, 54, 55, 72, 82, 95, 85, 98, 51, 93, 54, 50, 76, 85, 52, 81, 77, 54, 68, 67, 98, 94, 87, 63, 78, 67, 86, 96, 58, 57, 59, 80, 97, 63, 98, 82, 57, 59, 58, 80, 93, 90, 86, 94, 95, 94, 89, 60, 91, 56, 87, 98, 54, 68, 96, 98, 72, 79, 82, 90, 91, 60, 99, 74, 50, 57, 89, 79, 55, 69, 73, 75, 73, 95, 56, 67, 94, 82, 78, 74, 70, 91, 56, 76, 74, 62, 83, 71]\n"
     ]
    }
   ],
   "source": [
    "from scipy.stats import moment\n",
    "import random\n",
    "import numpy as np\n",
    "import math\n",
    "N=100\n",
    "tetha = 50\n",
    "beta=0.05\n",
    "samples = [random.randint(tetha, tetha*2-1) for i in range(N)]\n",
    "print(samples)"
   ]
  },
  {
   "cell_type": "markdown",
   "id": "78729482-e3b0-4877-a78e-628b0764b8e8",
   "metadata": {},
   "source": [
    "Точный Интервал:"
   ]
  },
  {
   "cell_type": "code",
   "execution_count": 12,
   "id": "ab497814-6190-490c-a5c3-2a79f8f811ef",
   "metadata": {},
   "outputs": [
    {
     "name": "stdout",
     "output_type": "stream",
     "text": [
      "точный интервал= [49.506266157442646, 50.41289414632564]\n"
     ]
    }
   ],
   "source": [
    "left_boundary =max(samples) / (1 + (1 - beta/2)**(1 / N))\n",
    "right_boundary=max(samples) / (1 + (beta/2)**(1 / N))\n",
    "accurate_interval=[left_boundary,right_boundary ]\n",
    "print('точный интервал=',accurate_interval )"
   ]
  },
  {
   "cell_type": "markdown",
   "id": "2c0622ae-e102-44c3-8e77-f3bc0ffea8a2",
   "metadata": {},
   "source": [
    "Асимптотический доверительный интервал:"
   ]
  },
  {
   "cell_type": "code",
   "execution_count": 13,
   "id": "5373c420-605c-49b8-9f09-edd70f204b31",
   "metadata": {},
   "outputs": [
    {
     "name": "stdout",
     "output_type": "stream",
     "text": [
      "Асимптотический интервал ОММ= [48.554049241330986, 52.41928409200234]\n"
     ]
    }
   ],
   "source": [
    "teta_OMM=(2/3)* np.mean(samples)\n",
    "quantil=1.96\n",
    "left_OMM_boundary=teta_OMM-2/3*np.sqrt((moment(samples, 2)-moment(samples,1)**2)/N)*quantil\n",
    "right_OMM_boundary=teta_OMM - 2/3*np.sqrt((moment(samples,2)-moment(samples, 1)**2)/N)*(-quantil)\n",
    "asymptotic_interval_OMM=[left_OMM_boundary,right_OMM_boundary]\n",
    "print('Асимптотический интервал ОММ=',asymptotic_interval_OMM )"
   ]
  },
  {
   "cell_type": "code",
   "execution_count": 14,
   "id": "26052874-fe97-4ab2-a270-4f1bfa4bd222",
   "metadata": {},
   "outputs": [
    {
     "name": "stdout",
     "output_type": "stream",
     "text": [
      "Асимптотический интервал ОМP= [39.996, 59.49653731343283]\n"
     ]
    }
   ],
   "source": [
    "teta_OMP = max(samples) * (N + 1) / (2 * N + 1)\n",
    "asymptotic_interval_OMP = [teta_OMP * (1 - quantil / N**(0.5)), teta_OMP * (1 + quantil / N**(0.5))]\n",
    "print('Асимптотический интервал ОМP=',asymptotic_interval_OMP )"
   ]
  },
  {
   "cell_type": "code",
   "execution_count": 15,
   "id": "f6fdff65-07d2-4d81-8ce6-1536826709d6",
   "metadata": {},
   "outputs": [],
   "source": [
    "def teta_OMP_for_bootstrap(samples, N):\n",
    "    return max(samples) * (N + 1) / (2 * N + 1)"
   ]
  },
  {
   "cell_type": "markdown",
   "id": "1a76727e-c5b4-4f43-85a2-f7438d7bedb8",
   "metadata": {},
   "source": [
    "Интервал с помощью Bootstrap"
   ]
  },
  {
   "cell_type": "code",
   "execution_count": 16,
   "id": "4ecb26d3-cb50-4cc3-ae64-e54d6f08d320",
   "metadata": {},
   "outputs": [
    {
     "name": "stdout",
     "output_type": "stream",
     "text": [
      "Интервал Bootstrap= [49.74626865671642, 50.24875621890547]\n"
     ]
    }
   ],
   "source": [
    "N_bootstrap=1000\n",
    "math.ceil(N_bootstrap*beta/2)\n",
    "bootstrap_samples = np.sort(np.array([teta_OMP_for_bootstrap(np.random.choice(samples, len(samples)), N) - teta_OMP for i in range(N_bootstrap)]))\n",
    "bootstrap_interval = [teta_OMP - bootstrap_samples[975], teta_OMP - bootstrap_samples[25]]\n",
    "print('Интервал Bootstrap=',bootstrap_interval )"
   ]
  },
  {
   "cell_type": "code",
   "execution_count": 17,
   "id": "9f62c70c-55b5-4d4b-ba9a-e7d8dc1d724b",
   "metadata": {},
   "outputs": [
    {
     "name": "stdout",
     "output_type": "stream",
     "text": [
      "точный интервал= [49.506266157442646, 50.41289414632564]\n",
      "Асимптотический интервал ОММ= [48.554049241330986, 52.41928409200234]\n",
      "Асимптотический интервал ОМP= [39.996, 59.49653731343283]\n",
      "Интервал Bootstrap= [49.74626865671642, 50.24875621890547]\n"
     ]
    }
   ],
   "source": [
    "print('точный интервал=',accurate_interval )\n",
    "print('Асимптотический интервал ОММ=',asymptotic_interval_OMM )\n",
    "print('Асимптотический интервал ОМP=',asymptotic_interval_OMP )\n",
    "print('Интервал Bootstrap=',bootstrap_interval )"
   ]
  }
 ],
 "metadata": {
  "kernelspec": {
   "display_name": "Python 3 (ipykernel)",
   "language": "python",
   "name": "python3"
  },
  "language_info": {
   "codemirror_mode": {
    "name": "ipython",
    "version": 3
   },
   "file_extension": ".py",
   "mimetype": "text/x-python",
   "name": "python",
   "nbconvert_exporter": "python",
   "pygments_lexer": "ipython3",
   "version": "3.10.0"
  }
 },
 "nbformat": 4,
 "nbformat_minor": 5
}
